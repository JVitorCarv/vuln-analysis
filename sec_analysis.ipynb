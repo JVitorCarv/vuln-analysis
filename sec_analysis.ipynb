{
 "cells": [
  {
   "cell_type": "code",
   "execution_count": 1,
   "metadata": {},
   "outputs": [],
   "source": [
    "import pandas as pd\n",
    "import numpy as np"
   ]
  },
  {
   "cell_type": "markdown",
   "metadata": {},
   "source": [
    "## Utils"
   ]
  },
  {
   "cell_type": "code",
   "execution_count": 2,
   "metadata": {},
   "outputs": [],
   "source": [
    "def prepend_string(value: str, prefix=\"UNKNOWN: \") -> str:\n",
    "    if pd.notna(value):\n",
    "        return prefix + value\n",
    "    return value"
   ]
  },
  {
   "cell_type": "markdown",
   "metadata": {},
   "source": [
    "## Cleaning Nessus"
   ]
  },
  {
   "cell_type": "code",
   "execution_count": 3,
   "metadata": {},
   "outputs": [],
   "source": [
    "nes = pd.read_excel('nessus.xlsx')"
   ]
  },
  {
   "cell_type": "code",
   "execution_count": 4,
   "metadata": {},
   "outputs": [
    {
     "name": "stdout",
     "output_type": "stream",
     "text": [
      "Nessus DataFrame length before cleaning: 173\n"
     ]
    }
   ],
   "source": [
    "print(f'Nessus DataFrame length before cleaning: {len(nes)}')"
   ]
  },
  {
   "cell_type": "code",
   "execution_count": 5,
   "metadata": {},
   "outputs": [
    {
     "name": "stdout",
     "output_type": "stream",
     "text": [
      "<class 'pandas.core.frame.DataFrame'>\n",
      "RangeIndex: 173 entries, 0 to 172\n",
      "Data columns (total 21 columns):\n",
      " #   Column                    Non-Null Count  Dtype         \n",
      "---  ------                    --------------  -----         \n",
      " 0   Plugin ID                 173 non-null    int64         \n",
      " 1   CVE                       36 non-null     object        \n",
      " 2   CVSS v2.0 Base Score      57 non-null     float64       \n",
      " 3   Risk                      56 non-null     object        \n",
      " 4   Host                      173 non-null    object        \n",
      " 5   Protocol                  173 non-null    object        \n",
      " 6   Port                      173 non-null    int64         \n",
      " 7   Name                      173 non-null    object        \n",
      " 8   Synopsis                  173 non-null    object        \n",
      " 9   Description               173 non-null    object        \n",
      " 10  Solution                  97 non-null     object        \n",
      " 11  See Also                  75 non-null     object        \n",
      " 12  Plugin Output             156 non-null    object        \n",
      " 13  BID                       24 non-null     object        \n",
      " 14  XREF                      38 non-null     object        \n",
      " 15  MSKB                      0 non-null      float64       \n",
      " 16  Plugin Publication Date   173 non-null    datetime64[ns]\n",
      " 17  Plugin Modification Date  173 non-null    datetime64[ns]\n",
      " 18  Metasploit                3 non-null      float64       \n",
      " 19  Core Impact               3 non-null      float64       \n",
      " 20  CANVAS                    0 non-null      float64       \n",
      "dtypes: datetime64[ns](2), float64(5), int64(2), object(12)\n",
      "memory usage: 28.5+ KB\n"
     ]
    }
   ],
   "source": [
    "nes.info()"
   ]
  },
  {
   "cell_type": "code",
   "execution_count": 6,
   "metadata": {},
   "outputs": [],
   "source": [
    "nes = nes.drop_duplicates(subset=['CVE', 'Description', 'Port'], keep='first')"
   ]
  },
  {
   "cell_type": "code",
   "execution_count": 7,
   "metadata": {},
   "outputs": [],
   "source": [
    "nes['scanner'] = np.nan # This will be filled later\n",
    "nes['Solution'] = nes['Solution'].apply(\n",
    "    lambda solution: prepend_string(solution, prefix='NESSUS: ')\n",
    ")"
   ]
  },
  {
   "cell_type": "code",
   "execution_count": 8,
   "metadata": {},
   "outputs": [
    {
     "name": "stdout",
     "output_type": "stream",
     "text": [
      "Nessus DataFrame length after cleaning: 169\n"
     ]
    }
   ],
   "source": [
    "print(f'Nessus DataFrame length after cleaning: {len(nes)}')"
   ]
  },
  {
   "cell_type": "code",
   "execution_count": 9,
   "metadata": {},
   "outputs": [],
   "source": [
    "nes.to_excel('dedup_nessus.xlsx')"
   ]
  },
  {
   "cell_type": "markdown",
   "metadata": {},
   "source": [
    "## Cleaning OpenVAS"
   ]
  },
  {
   "cell_type": "code",
   "execution_count": 10,
   "metadata": {},
   "outputs": [],
   "source": [
    "vas = pd.read_excel('openvas.xlsx')"
   ]
  },
  {
   "cell_type": "code",
   "execution_count": 11,
   "metadata": {},
   "outputs": [
    {
     "name": "stdout",
     "output_type": "stream",
     "text": [
      "OpenVAS DataFrame length before cleaning: 59\n"
     ]
    }
   ],
   "source": [
    "print(f'OpenVAS DataFrame length before cleaning: {len(vas)}')"
   ]
  },
  {
   "cell_type": "code",
   "execution_count": 12,
   "metadata": {},
   "outputs": [
    {
     "name": "stdout",
     "output_type": "stream",
     "text": [
      "<class 'pandas.core.frame.DataFrame'>\n",
      "RangeIndex: 59 entries, 0 to 58\n",
      "Data columns (total 24 columns):\n",
      " #   Column                          Non-Null Count  Dtype  \n",
      "---  ------                          --------------  -----  \n",
      " 0   IP                              59 non-null     object \n",
      " 1   Hostname                        54 non-null     object \n",
      " 2   Port                            53 non-null     float64\n",
      " 3   Port Protocol                   53 non-null     object \n",
      " 4   QoD                             59 non-null     int64  \n",
      " 5   Solution Type                   59 non-null     object \n",
      " 6   NVT Name                        59 non-null     object \n",
      " 7   Summary                         59 non-null     object \n",
      " 8   Specific Result                 59 non-null     object \n",
      " 9   NVT OID                         59 non-null     object \n",
      " 10  CVEs                            35 non-null     object \n",
      " 11  Task ID                         59 non-null     object \n",
      " 12  Task Name                       59 non-null     object \n",
      " 13  Timestamp                       59 non-null     object \n",
      " 14  Result ID                       59 non-null     object \n",
      " 15  Impact                          45 non-null     object \n",
      " 16  Solution                        59 non-null     object \n",
      " 17  Affected Software/OS            30 non-null     object \n",
      " 18  Vulnerability Insight           40 non-null     object \n",
      " 19  Vulnerability Detection Method  59 non-null     object \n",
      " 20  Product Detection Result        18 non-null     object \n",
      " 21  BIDs                            0 non-null      float64\n",
      " 22  CERTs                           20 non-null     object \n",
      " 23  Other References                0 non-null      float64\n",
      "dtypes: float64(3), int64(1), object(20)\n",
      "memory usage: 11.2+ KB\n"
     ]
    }
   ],
   "source": [
    "vas.info()"
   ]
  },
  {
   "cell_type": "code",
   "execution_count": 13,
   "metadata": {},
   "outputs": [],
   "source": [
    "vas = vas[vas['IP'] == '192.168.1.172'] # We will only keep this IP for this analysis."
   ]
  },
  {
   "cell_type": "code",
   "execution_count": 14,
   "metadata": {},
   "outputs": [],
   "source": [
    "vas['Port'] = vas['Port'].fillna(0).astype(int) "
   ]
  },
  {
   "cell_type": "code",
   "execution_count": 15,
   "metadata": {},
   "outputs": [],
   "source": [
    "vas = vas.drop_duplicates(subset=['CVEs', 'Summary', 'Port'], keep='first')"
   ]
  },
  {
   "cell_type": "code",
   "execution_count": 16,
   "metadata": {},
   "outputs": [],
   "source": [
    "vas['scanner'] = np.nan # This will be filled later\n",
    "vas['Solution'] = vas['Solution'].apply(\n",
    "    lambda solution: prepend_string(solution, prefix='OPENVAS: ')\n",
    ")"
   ]
  },
  {
   "cell_type": "code",
   "execution_count": 17,
   "metadata": {},
   "outputs": [
    {
     "name": "stdout",
     "output_type": "stream",
     "text": [
      "OpenVAS DataFrame length after cleaning: 54\n"
     ]
    }
   ],
   "source": [
    "print(f'OpenVAS DataFrame length after cleaning: {len(vas)}')"
   ]
  },
  {
   "cell_type": "code",
   "execution_count": 18,
   "metadata": {},
   "outputs": [],
   "source": [
    "vas.to_excel('dedup_openvas.xlsx')"
   ]
  },
  {
   "cell_type": "markdown",
   "metadata": {},
   "source": [
    "## Merging the DataFrames"
   ]
  },
  {
   "cell_type": "code",
   "execution_count": 19,
   "metadata": {},
   "outputs": [],
   "source": [
    "nes = nes.rename(columns={\"CVE\": \"CVEs\"})"
   ]
  },
  {
   "attachments": {
    "image.png": {
     "image/png": "[encoded data removed]"
    }
   },
   "cell_type": "markdown",
   "metadata": {},
   "source": [
    "Here we will merge the intersection between OpenVAS and Nessus.\n",
    "\n",
    "![image.png](attachment:image.png)"
   ]
  },
  {
   "cell_type": "code",
   "execution_count": 20,
   "metadata": {},
   "outputs": [],
   "source": [
    "# Merge DataFrames on 'CVEs' and 'Port' where both columns are not empty\n",
    "merged_df = pd.merge(\n",
    "    vas[(vas['CVEs'].notna()) & (vas['Port'].notna())],\n",
    "    nes[(nes['CVEs'].notna()) & (nes['Port'].notna())],\n",
    "    on=['CVEs', 'Port'],\n",
    "    how='inner'\n",
    ")\n",
    "merged_df['Scanner'] = 'NESSUS,OPENVAS'"
   ]
  },
  {
   "cell_type": "code",
   "execution_count": 21,
   "metadata": {},
   "outputs": [
    {
     "data": {
      "text/html": [
       "<div>\n",
       "<style scoped>\n",
       "    .dataframe tbody tr th:only-of-type {\n",
       "        vertical-align: middle;\n",
       "    }\n",
       "\n",
       "    .dataframe tbody tr th {\n",
       "        vertical-align: top;\n",
       "    }\n",
       "\n",
       "    .dataframe thead th {\n",
       "        text-align: right;\n",
       "    }\n",
       "</style>\n",
       "<table border=\"1\" class=\"dataframe\">\n",
       "  <thead>\n",
       "    <tr style=\"text-align: right;\">\n",
       "      <th></th>\n",
       "      <th>IP</th>\n",
       "      <th>Hostname</th>\n",
       "      <th>Port</th>\n",
       "      <th>Port Protocol</th>\n",
       "      <th>QoD</th>\n",
       "      <th>Solution Type</th>\n",
       "      <th>NVT Name</th>\n",
       "      <th>Summary</th>\n",
       "      <th>Specific Result</th>\n",
       "      <th>NVT OID</th>\n",
       "      <th>...</th>\n",
       "      <th>BID</th>\n",
       "      <th>XREF</th>\n",
       "      <th>MSKB</th>\n",
       "      <th>Plugin Publication Date</th>\n",
       "      <th>Plugin Modification Date</th>\n",
       "      <th>Metasploit</th>\n",
       "      <th>Core Impact</th>\n",
       "      <th>CANVAS</th>\n",
       "      <th>scanner_y</th>\n",
       "      <th>Scanner</th>\n",
       "    </tr>\n",
       "  </thead>\n",
       "  <tbody>\n",
       "    <tr>\n",
       "      <th>0</th>\n",
       "      <td>192.168.1.172</td>\n",
       "      <td>METASPLOITABLE</td>\n",
       "      <td>5432</td>\n",
       "      <td>tcp</td>\n",
       "      <td>80</td>\n",
       "      <td>Mitigation</td>\n",
       "      <td>SSL/TLS: SSLv3 Protocol CBC Cipher Suites Info...</td>\n",
       "      <td>This host is prone to an information disclosur...</td>\n",
       "      <td>Vulnerability was detected according to the Vu...</td>\n",
       "      <td>1.3.6.1.4.1.25623.1.0.802087</td>\n",
       "      <td>...</td>\n",
       "      <td>70574</td>\n",
       "      <td>CERT:577193</td>\n",
       "      <td>NaN</td>\n",
       "      <td>2014-10-15</td>\n",
       "      <td>2023-06-23</td>\n",
       "      <td>NaN</td>\n",
       "      <td>NaN</td>\n",
       "      <td>NaN</td>\n",
       "      <td>NaN</td>\n",
       "      <td>NESSUS,OPENVAS</td>\n",
       "    </tr>\n",
       "    <tr>\n",
       "      <th>1</th>\n",
       "      <td>192.168.1.172</td>\n",
       "      <td>METASPLOITABLE</td>\n",
       "      <td>8009</td>\n",
       "      <td>tcp</td>\n",
       "      <td>99</td>\n",
       "      <td>VendorFix</td>\n",
       "      <td>Apache Tomcat AJP RCE Vulnerability (Ghostcat)</td>\n",
       "      <td>Apache Tomcat is prone to a remote code execut...</td>\n",
       "      <td>It was possible to read the file \"/WEB-INF/web...</td>\n",
       "      <td>1.3.6.1.4.1.25623.1.0.143545</td>\n",
       "      <td>...</td>\n",
       "      <td>NaN</td>\n",
       "      <td>CISA-KNOWN-EXPLOITED:2022/03/17;CEA-ID:CEA-202...</td>\n",
       "      <td>NaN</td>\n",
       "      <td>2020-03-24</td>\n",
       "      <td>2024-07-17</td>\n",
       "      <td>NaN</td>\n",
       "      <td>NaN</td>\n",
       "      <td>NaN</td>\n",
       "      <td>NaN</td>\n",
       "      <td>NESSUS,OPENVAS</td>\n",
       "    </tr>\n",
       "    <tr>\n",
       "      <th>2</th>\n",
       "      <td>192.168.1.172</td>\n",
       "      <td>METASPLOITABLE</td>\n",
       "      <td>0</td>\n",
       "      <td>NaN</td>\n",
       "      <td>80</td>\n",
       "      <td>Mitigation</td>\n",
       "      <td>ICMP Timestamp Reply Information Disclosure</td>\n",
       "      <td>The remote host responded to an ICMP timestamp...</td>\n",
       "      <td>The following response / ICMP packet has been ...</td>\n",
       "      <td>1.3.6.1.4.1.25623.1.0.103190</td>\n",
       "      <td>...</td>\n",
       "      <td>NaN</td>\n",
       "      <td>CWE:200</td>\n",
       "      <td>NaN</td>\n",
       "      <td>1999-08-01</td>\n",
       "      <td>2024-05-03</td>\n",
       "      <td>NaN</td>\n",
       "      <td>NaN</td>\n",
       "      <td>NaN</td>\n",
       "      <td>NaN</td>\n",
       "      <td>NESSUS,OPENVAS</td>\n",
       "    </tr>\n",
       "  </tbody>\n",
       "</table>\n",
       "<p>3 rows × 46 columns</p>\n",
       "</div>"
      ],
      "text/plain": [
       "              IP        Hostname  Port Port Protocol  QoD Solution Type  \\\n",
       "0  192.168.1.172  METASPLOITABLE  5432           tcp   80    Mitigation   \n",
       "1  192.168.1.172  METASPLOITABLE  8009           tcp   99     VendorFix   \n",
       "2  192.168.1.172  METASPLOITABLE     0           NaN   80    Mitigation   \n",
       "\n",
       "                                            NVT Name  \\\n",
       "0  SSL/TLS: SSLv3 Protocol CBC Cipher Suites Info...   \n",
       "1     Apache Tomcat AJP RCE Vulnerability (Ghostcat)   \n",
       "2        ICMP Timestamp Reply Information Disclosure   \n",
       "\n",
       "                                             Summary  \\\n",
       "0  This host is prone to an information disclosur...   \n",
       "1  Apache Tomcat is prone to a remote code execut...   \n",
       "2  The remote host responded to an ICMP timestamp...   \n",
       "\n",
       "                                     Specific Result  \\\n",
       "0  Vulnerability was detected according to the Vu...   \n",
       "1  It was possible to read the file \"/WEB-INF/web...   \n",
       "2  The following response / ICMP packet has been ...   \n",
       "\n",
       "                        NVT OID  ...    BID  \\\n",
       "0  1.3.6.1.4.1.25623.1.0.802087  ...  70574   \n",
       "1  1.3.6.1.4.1.25623.1.0.143545  ...    NaN   \n",
       "2  1.3.6.1.4.1.25623.1.0.103190  ...    NaN   \n",
       "\n",
       "                                                XREF MSKB  \\\n",
       "0                                        CERT:577193  NaN   \n",
       "1  CISA-KNOWN-EXPLOITED:2022/03/17;CEA-ID:CEA-202...  NaN   \n",
       "2                                            CWE:200  NaN   \n",
       "\n",
       "  Plugin Publication Date Plugin Modification Date Metasploit Core Impact  \\\n",
       "0              2014-10-15               2023-06-23        NaN         NaN   \n",
       "1              2020-03-24               2024-07-17        NaN         NaN   \n",
       "2              1999-08-01               2024-05-03        NaN         NaN   \n",
       "\n",
       "  CANVAS scanner_y         Scanner  \n",
       "0    NaN       NaN  NESSUS,OPENVAS  \n",
       "1    NaN       NaN  NESSUS,OPENVAS  \n",
       "2    NaN       NaN  NESSUS,OPENVAS  \n",
       "\n",
       "[3 rows x 46 columns]"
      ]
     },
     "execution_count": 21,
     "metadata": {},
     "output_type": "execute_result"
    }
   ],
   "source": [
    "merged_df"
   ]
  },
  {
   "attachments": {
    "image.png": {
     "image/png": "[encoded data removed]"
    }
   },
   "cell_type": "markdown",
   "metadata": {},
   "source": [
    "Now that the intersection is merged, we want to get the difference for both A and B (A ∩ B' and A' ∩ B).\n",
    "\n",
    "![image.png](attachment:image.png)"
   ]
  },
  {
   "cell_type": "code",
   "execution_count": 22,
   "metadata": {},
   "outputs": [],
   "source": [
    "def get_difference(\n",
    "    A: pd.DataFrame,\n",
    "    intersection: pd.DataFrame,\n",
    "    columns: list[str]\n",
    ") -> pd.DataFrame:\n",
    "    '''\n",
    "    This function essentially returns the difference between a given DataFrame A\n",
    "    and its intersection with another DataFrame.\n",
    "    (https://byjus.com/maths/difference-of-sets/)\n",
    "    '''\n",
    "\n",
    "    # We will merge to a dataset and check how it was merged. If the columns match,\n",
    "    # then the row will be indicated as \"both\", and if not, then it will be \"left_only\"\n",
    "    merged_df = A.merge(\n",
    "        intersection[columns],\n",
    "        on=columns,\n",
    "        how='left',\n",
    "        indicator=True\n",
    "    )\n",
    "\n",
    "    # We will keep only the rows which keys were not present in both as those are duplicates\n",
    "    difference = merged_df[merged_df['_merge'] != 'both']\n",
    "    return difference.drop(columns=['_merge'])"
   ]
  },
  {
   "cell_type": "code",
   "execution_count": 23,
   "metadata": {},
   "outputs": [],
   "source": [
    "vas_not_merged = get_difference(vas, merged_df, columns=['CVEs', 'Port'])\n",
    "nes_not_merged = get_difference(nes, merged_df, columns=['CVEs', 'Port'])"
   ]
  },
  {
   "cell_type": "code",
   "execution_count": 24,
   "metadata": {},
   "outputs": [],
   "source": [
    "vas_not_merged['Scanner'] = 'OPENVAS'\n",
    "nes_not_merged['Scanner'] = 'NESSUS'"
   ]
  },
  {
   "attachments": {
    "image.png": {
     "image/png": "[encoded data removed]"
    }
   },
   "cell_type": "markdown",
   "metadata": {},
   "source": [
    "Now if we concatenate the difference with the intersection, we will get the whole set, deduplicated.\n",
    "\n",
    "![image.png](attachment:image.png)"
   ]
  },
  {
   "cell_type": "code",
   "execution_count": 25,
   "metadata": {},
   "outputs": [],
   "source": [
    "df = pd.concat([merged_df, vas_not_merged, nes_not_merged], ignore_index=True)"
   ]
  },
  {
   "cell_type": "code",
   "execution_count": 26,
   "metadata": {},
   "outputs": [
    {
     "data": {
      "text/html": [
       "<div>\n",
       "<style scoped>\n",
       "    .dataframe tbody tr th:only-of-type {\n",
       "        vertical-align: middle;\n",
       "    }\n",
       "\n",
       "    .dataframe tbody tr th {\n",
       "        vertical-align: top;\n",
       "    }\n",
       "\n",
       "    .dataframe thead th {\n",
       "        text-align: right;\n",
       "    }\n",
       "</style>\n",
       "<table border=\"1\" class=\"dataframe\">\n",
       "  <thead>\n",
       "    <tr style=\"text-align: right;\">\n",
       "      <th></th>\n",
       "      <th>IP</th>\n",
       "      <th>Hostname</th>\n",
       "      <th>Port</th>\n",
       "      <th>Port Protocol</th>\n",
       "      <th>QoD</th>\n",
       "      <th>Solution Type</th>\n",
       "      <th>NVT Name</th>\n",
       "      <th>Summary</th>\n",
       "      <th>Specific Result</th>\n",
       "      <th>NVT OID</th>\n",
       "      <th>...</th>\n",
       "      <th>MSKB</th>\n",
       "      <th>Plugin Publication Date</th>\n",
       "      <th>Plugin Modification Date</th>\n",
       "      <th>Metasploit</th>\n",
       "      <th>Core Impact</th>\n",
       "      <th>CANVAS</th>\n",
       "      <th>scanner_y</th>\n",
       "      <th>Scanner</th>\n",
       "      <th>Solution</th>\n",
       "      <th>scanner</th>\n",
       "    </tr>\n",
       "  </thead>\n",
       "  <tbody>\n",
       "    <tr>\n",
       "      <th>0</th>\n",
       "      <td>192.168.1.172</td>\n",
       "      <td>METASPLOITABLE</td>\n",
       "      <td>5432</td>\n",
       "      <td>tcp</td>\n",
       "      <td>80.0</td>\n",
       "      <td>Mitigation</td>\n",
       "      <td>SSL/TLS: SSLv3 Protocol CBC Cipher Suites Info...</td>\n",
       "      <td>This host is prone to an information disclosur...</td>\n",
       "      <td>Vulnerability was detected according to the Vu...</td>\n",
       "      <td>1.3.6.1.4.1.25623.1.0.802087</td>\n",
       "      <td>...</td>\n",
       "      <td>NaN</td>\n",
       "      <td>2014-10-15</td>\n",
       "      <td>2023-06-23</td>\n",
       "      <td>NaN</td>\n",
       "      <td>NaN</td>\n",
       "      <td>NaN</td>\n",
       "      <td>NaN</td>\n",
       "      <td>NESSUS,OPENVAS</td>\n",
       "      <td>NaN</td>\n",
       "      <td>NaN</td>\n",
       "    </tr>\n",
       "    <tr>\n",
       "      <th>1</th>\n",
       "      <td>192.168.1.172</td>\n",
       "      <td>METASPLOITABLE</td>\n",
       "      <td>8009</td>\n",
       "      <td>tcp</td>\n",
       "      <td>99.0</td>\n",
       "      <td>VendorFix</td>\n",
       "      <td>Apache Tomcat AJP RCE Vulnerability (Ghostcat)</td>\n",
       "      <td>Apache Tomcat is prone to a remote code execut...</td>\n",
       "      <td>It was possible to read the file \"/WEB-INF/web...</td>\n",
       "      <td>1.3.6.1.4.1.25623.1.0.143545</td>\n",
       "      <td>...</td>\n",
       "      <td>NaN</td>\n",
       "      <td>2020-03-24</td>\n",
       "      <td>2024-07-17</td>\n",
       "      <td>NaN</td>\n",
       "      <td>NaN</td>\n",
       "      <td>NaN</td>\n",
       "      <td>NaN</td>\n",
       "      <td>NESSUS,OPENVAS</td>\n",
       "      <td>NaN</td>\n",
       "      <td>NaN</td>\n",
       "    </tr>\n",
       "    <tr>\n",
       "      <th>2</th>\n",
       "      <td>192.168.1.172</td>\n",
       "      <td>METASPLOITABLE</td>\n",
       "      <td>0</td>\n",
       "      <td>NaN</td>\n",
       "      <td>80.0</td>\n",
       "      <td>Mitigation</td>\n",
       "      <td>ICMP Timestamp Reply Information Disclosure</td>\n",
       "      <td>The remote host responded to an ICMP timestamp...</td>\n",
       "      <td>The following response / ICMP packet has been ...</td>\n",
       "      <td>1.3.6.1.4.1.25623.1.0.103190</td>\n",
       "      <td>...</td>\n",
       "      <td>NaN</td>\n",
       "      <td>1999-08-01</td>\n",
       "      <td>2024-05-03</td>\n",
       "      <td>NaN</td>\n",
       "      <td>NaN</td>\n",
       "      <td>NaN</td>\n",
       "      <td>NaN</td>\n",
       "      <td>NESSUS,OPENVAS</td>\n",
       "      <td>NaN</td>\n",
       "      <td>NaN</td>\n",
       "    </tr>\n",
       "  </tbody>\n",
       "</table>\n",
       "<p>3 rows × 48 columns</p>\n",
       "</div>"
      ],
      "text/plain": [
       "              IP        Hostname  Port Port Protocol   QoD Solution Type  \\\n",
       "0  192.168.1.172  METASPLOITABLE  5432           tcp  80.0    Mitigation   \n",
       "1  192.168.1.172  METASPLOITABLE  8009           tcp  99.0     VendorFix   \n",
       "2  192.168.1.172  METASPLOITABLE     0           NaN  80.0    Mitigation   \n",
       "\n",
       "                                            NVT Name  \\\n",
       "0  SSL/TLS: SSLv3 Protocol CBC Cipher Suites Info...   \n",
       "1     Apache Tomcat AJP RCE Vulnerability (Ghostcat)   \n",
       "2        ICMP Timestamp Reply Information Disclosure   \n",
       "\n",
       "                                             Summary  \\\n",
       "0  This host is prone to an information disclosur...   \n",
       "1  Apache Tomcat is prone to a remote code execut...   \n",
       "2  The remote host responded to an ICMP timestamp...   \n",
       "\n",
       "                                     Specific Result  \\\n",
       "0  Vulnerability was detected according to the Vu...   \n",
       "1  It was possible to read the file \"/WEB-INF/web...   \n",
       "2  The following response / ICMP packet has been ...   \n",
       "\n",
       "                        NVT OID  ... MSKB Plugin Publication Date  \\\n",
       "0  1.3.6.1.4.1.25623.1.0.802087  ...  NaN              2014-10-15   \n",
       "1  1.3.6.1.4.1.25623.1.0.143545  ...  NaN              2020-03-24   \n",
       "2  1.3.6.1.4.1.25623.1.0.103190  ...  NaN              1999-08-01   \n",
       "\n",
       "  Plugin Modification Date Metasploit Core Impact CANVAS scanner_y  \\\n",
       "0               2023-06-23        NaN         NaN    NaN       NaN   \n",
       "1               2024-07-17        NaN         NaN    NaN       NaN   \n",
       "2               2024-05-03        NaN         NaN    NaN       NaN   \n",
       "\n",
       "          Scanner Solution scanner  \n",
       "0  NESSUS,OPENVAS      NaN     NaN  \n",
       "1  NESSUS,OPENVAS      NaN     NaN  \n",
       "2  NESSUS,OPENVAS      NaN     NaN  \n",
       "\n",
       "[3 rows x 48 columns]"
      ]
     },
     "execution_count": 26,
     "metadata": {},
     "output_type": "execute_result"
    }
   ],
   "source": [
    "df.head(3)"
   ]
  },
  {
   "cell_type": "markdown",
   "metadata": {},
   "source": [
    "## Cleaning concatenated DataFrame"
   ]
  },
  {
   "cell_type": "code",
   "execution_count": 27,
   "metadata": {},
   "outputs": [],
   "source": [
    "df = df.drop(columns=['scanner_x', 'scanner_y'])"
   ]
  },
  {
   "cell_type": "code",
   "execution_count": 28,
   "metadata": {},
   "outputs": [],
   "source": [
    "df['IP'] = df['IP'].fillna(df['Host'])\n",
    "df = df.drop(columns='Host')"
   ]
  },
  {
   "cell_type": "code",
   "execution_count": 29,
   "metadata": {},
   "outputs": [],
   "source": [
    "df['Name'] = df['Name'].fillna(df['NVT Name'])\n",
    "df = df.drop(columns='NVT Name')"
   ]
  },
  {
   "cell_type": "code",
   "execution_count": 30,
   "metadata": {},
   "outputs": [],
   "source": [
    "def merge_solutions(row: pd.Series) -> str:\n",
    "    \"\"\"\n",
    "    Function to determine the value of the 'Solution' column based on the logic provided.\n",
    "    \"\"\"\n",
    "    solution = row['Solution']\n",
    "    solution_y = row['Solution_y']\n",
    "    \n",
    "    if pd.notna(solution) and pd.notna(solution_y) and not solution_y == solution:\n",
    "        return solution + \"\\n\\n\" + solution_y\n",
    "    elif pd.notna(solution):\n",
    "        return solution\n",
    "    return solution_y"
   ]
  },
  {
   "cell_type": "code",
   "execution_count": 31,
   "metadata": {},
   "outputs": [],
   "source": [
    "df['Solution'] = df['Solution'].combine_first(df['Solution_y'])\n",
    "df['Solution'] = df.apply(merge_solutions, axis=1)"
   ]
  },
  {
   "cell_type": "code",
   "execution_count": 32,
   "metadata": {},
   "outputs": [
    {
     "name": "stdout",
     "output_type": "stream",
     "text": [
      "<class 'pandas.core.frame.DataFrame'>\n",
      "RangeIndex: 220 entries, 0 to 219\n",
      "Data columns (total 44 columns):\n",
      " #   Column                          Non-Null Count  Dtype         \n",
      "---  ------                          --------------  -----         \n",
      " 0   IP                              220 non-null    object        \n",
      " 1   Hostname                        54 non-null     object        \n",
      " 2   Port                            220 non-null    int64         \n",
      " 3   Port Protocol                   51 non-null     object        \n",
      " 4   QoD                             54 non-null     float64       \n",
      " 5   Solution Type                   54 non-null     object        \n",
      " 6   Summary                         54 non-null     object        \n",
      " 7   Specific Result                 54 non-null     object        \n",
      " 8   NVT OID                         54 non-null     object        \n",
      " 9   CVEs                            67 non-null     object        \n",
      " 10  Task ID                         54 non-null     object        \n",
      " 11  Task Name                       54 non-null     object        \n",
      " 12  Timestamp                       54 non-null     object        \n",
      " 13  Result ID                       54 non-null     object        \n",
      " 14  Impact                          40 non-null     object        \n",
      " 15  Solution_x                      3 non-null      object        \n",
      " 16  Affected Software/OS            27 non-null     object        \n",
      " 17  Vulnerability Insight           37 non-null     object        \n",
      " 18  Vulnerability Detection Method  54 non-null     object        \n",
      " 19  Product Detection Result        18 non-null     object        \n",
      " 20  BIDs                            0 non-null      float64       \n",
      " 21  CERTs                           19 non-null     object        \n",
      " 22  Other References                0 non-null      float64       \n",
      " 23  Plugin ID                       169 non-null    float64       \n",
      " 24  CVSS v2.0 Base Score            57 non-null     float64       \n",
      " 25  Risk                            56 non-null     object        \n",
      " 26  Protocol                        169 non-null    object        \n",
      " 27  Name                            220 non-null    object        \n",
      " 28  Synopsis                        169 non-null    object        \n",
      " 29  Description                     169 non-null    object        \n",
      " 30  Solution_y                      3 non-null      object        \n",
      " 31  See Also                        73 non-null     object        \n",
      " 32  Plugin Output                   154 non-null    object        \n",
      " 33  BID                             24 non-null     object        \n",
      " 34  XREF                            38 non-null     object        \n",
      " 35  MSKB                            0 non-null      float64       \n",
      " 36  Plugin Publication Date         169 non-null    datetime64[ns]\n",
      " 37  Plugin Modification Date        169 non-null    datetime64[ns]\n",
      " 38  Metasploit                      3 non-null      float64       \n",
      " 39  Core Impact                     3 non-null      float64       \n",
      " 40  CANVAS                          0 non-null      float64       \n",
      " 41  Scanner                         220 non-null    object        \n",
      " 42  Solution                        147 non-null    object        \n",
      " 43  scanner                         0 non-null      float64       \n",
      "dtypes: datetime64[ns](2), float64(10), int64(1), object(31)\n",
      "memory usage: 75.8+ KB\n"
     ]
    }
   ],
   "source": [
    "df.info()"
   ]
  }
 ],
 "metadata": {
  "kernelspec": {
   "display_name": "venv",
   "language": "python",
   "name": "python3"
  },
  "language_info": {
   "codemirror_mode": {
    "name": "ipython",
    "version": 3
   },
   "file_extension": ".py",
   "mimetype": "text/x-python",
   "name": "python",
   "nbconvert_exporter": "python",
   "pygments_lexer": "ipython3",
   "version": "3.12.4"
  }
 },
 "nbformat": 4,
 "nbformat_minor": 2
}
